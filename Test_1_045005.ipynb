{
 "cells": [
  {
   "cell_type": "code",
   "execution_count": 13,
   "metadata": {
    "colab": {
     "base_uri": "https://localhost:8080/"
    },
    "id": "0ulIQZi-Tmg4",
    "outputId": "b59b16b3-df84-4313-8d9b-a53bfeb8656d"
   },
   "outputs": [
    {
     "name": "stdout",
     "output_type": "stream",
     "text": [
      "Output 1: Number of Unique Letters = 5\n",
      "Output 2: {'a': 4, 'n': 2, 'c': 1, 'o': 1, 'd': 1}\n"
     ]
    }
   ],
   "source": [
    "# Question 1\n",
    "'''Write a python code which will count the number of unique letters and their frequency. \n",
    "Test the code with the word ‘Anaconda’. (Note: Remove Case Sensitivity)\n",
    "Input: Anaconda\n",
    "Output 1: Number of Unique Letters = 5. \n",
    "Output 2: {a: 3, c: 1, d: 1, n: 2, o: 1}\n",
    "'''\n",
    "\n",
    "def unique(word):\n",
    "    word = word.lower()  # Convert lowercase\n",
    "    empty = {}   # empty list\n",
    "    for char in word:\n",
    "       if char.isalpha():\n",
    "            # If the letter is not in the dictionary, add it with a count of 1\n",
    "            if char not in empty:\n",
    "                empty[char] = 1\n",
    "            else:\n",
    "                # If the letter is already in the dictionary, increment its count\n",
    "                empty[char] += 1\n",
    "\n",
    "    no_unique = len(empty)\n",
    "    return no_unique, empty\n",
    "\n",
    "# Test\n",
    "word = 'Anacondaa'\n",
    "no_unique, frequency = unique(word)\n",
    "\n",
    "print(f\"Output 1: Number of Unique Letters = {no_unique}\")\n",
    "print(f\"Output 2: {frequency}\")\n",
    "\n"
   ]
  },
  {
   "cell_type": "code",
   "execution_count": 2,
   "metadata": {
    "colab": {
     "base_uri": "https://localhost:8080/"
    },
    "id": "YtsjiNb3YMBl",
    "outputId": "72cf9643-7d81-416d-ff45-2a003d4592cd"
   },
   "outputs": [
    {
     "name": "stdout",
     "output_type": "stream",
     "text": [
      "Input: 83\n",
      "Class_Test: 8\n",
      "Mid_Term: 17\n",
      "Project: 25\n",
      "End_Term: 33\n"
     ]
    }
   ],
   "source": [
    "# Question 2\n",
    "'''\n",
    "A student’s evaluation is done based on 4 components: Class_Test (10%), Mid_Term (20%), Project (30%) & End_Term (40%). \n",
    "Write a python code to generate a random score between 10 & 90 (use python library: random) and get the evaluation bifurcation (Round off to Nearest Integer).\n",
    "Example\n",
    "Input = 80 (marks)\n",
    "Class_Test = 8 (marks)\n",
    "Mid_Term = 16 (marks)\n",
    "Project = 24 (marks)\n",
    "End_Term = 32 (marks)\n",
    "'''\n",
    "\n",
    "\n",
    "import random\n",
    "\n",
    "# Generate a random number between 10 and 90\n",
    "random_number = random.randint(10, 90)\n",
    "\n",
    "# Multiply the random number as per given in the question\n",
    "Class_Test  = round(random_number * 0.1)\n",
    "Mid_Term   = round(random_number * 0.2)\n",
    "Project  = round(random_number * 0.3)\n",
    "End_Term   = round(random_number * 0.4)\n",
    "\n",
    "print(f\"Input: {random_number}\")\n",
    "print(f\"Class_Test: {Class_Test }\")\n",
    "print(f\"Mid_Term: {Mid_Term }\")\n",
    "print(f\"Project: {Project}\")\n",
    "print(f\"End_Term: {End_Term  }\")"
   ]
  },
  {
   "cell_type": "code",
   "execution_count": 3,
   "metadata": {
    "colab": {
     "base_uri": "https://localhost:8080/"
    },
    "id": "fx82nCgUaZda",
    "outputId": "3f7721b5-e31a-4baf-c123-12193c94cdc3"
   },
   "outputs": [
    {
     "name": "stdout",
     "output_type": "stream",
     "text": [
      "Input1: Anaconda\n",
      "Input2: Python\n",
      "Output: {'n', 'o'}\n"
     ]
    }
   ],
   "source": [
    "# Task 3\n",
    "'''\n",
    "Task 3\n",
    "Write a python code to display the letters occurring commonly in 2 words. \n",
    "Test the code with the words ‘Python’ & ‘Anaconda’. (Note: Remove Case Sensitivity)\n",
    "Input 1: Python\n",
    "Input 2: Anaconda\n",
    "Output: [o, n]\n",
    "'''\n",
    "\n",
    "a1 = \"Anaconda\"\n",
    "a=a1.lower()\n",
    "a_set = set(a)\n",
    "#print(a_set)\n",
    "b1 = \"Python\"\n",
    "b=b1.lower()\n",
    "b_set = set(b)\n",
    "#print(b_set)\n",
    "print(\"Input1:\",a1)\n",
    "print(\"Input2:\",b1)\n",
    "print(\"Output:\",set.intersection(a_set,b_set))\n"
   ]
  },
  {
   "cell_type": "code",
   "execution_count": 4,
   "metadata": {
    "colab": {
     "base_uri": "https://localhost:8080/"
    },
    "id": "KmnOovKybN7u",
    "outputId": "7c060d84-8c45-4d2f-c182-f3d392408269"
   },
   "outputs": [
    {
     "name": "stdout",
     "output_type": "stream",
     "text": [
      "48\n",
      "Grade C\n"
     ]
    }
   ],
   "source": [
    "# Task 4\n",
    "'''\n",
    "Task 4\n",
    "Write a python code to generate a random score between 0 & 100 (use python library: random). Print the following as output:\n",
    "1.\tThe score\n",
    "2.\t‘Grade F’ : If the score is less than 40\n",
    "3.\t‘Grade C’ : If the score is between 40 & 59\n",
    "4.\t‘Grade B’ : If the score is between 60 & 84\n",
    "5.\t‘Grade A’ : If the score is between 85 & 100\n",
    "'''\n",
    "\n",
    "import random\n",
    "\n",
    "# Generate a random number between 0 and 100\n",
    "random_number = random.randint(0, 100)\n",
    "print(random_number)\n",
    "if random_number<40:\n",
    "  print(\"Grade F\")\n",
    "elif 59>random_number >40:\n",
    "  print(\"Grade C\")\n",
    "elif 84>random_number>60:\n",
    "  print(\"Grade B\")\n",
    "else:\n",
    "  print(\"Grade A\")\n",
    "\n",
    "\n",
    "\n"
   ]
  },
  {
   "cell_type": "code",
   "execution_count": 5,
   "metadata": {
    "colab": {
     "base_uri": "https://localhost:8080/"
    },
    "id": "ktC0kt4UcGqQ",
    "outputId": "1f59a53c-08e1-41a7-ad58-a346398ff856"
   },
   "outputs": [
    {
     "name": "stdout",
     "output_type": "stream",
     "text": [
      "The random number: 54\n",
      "List of even numbers up to the random number: [2, 4, 6, 8, 10, 12, 14, 16, 18, 20, 22, 24, 26, 28, 30, 32, 34, 36, 38, 40, 42, 44, 46, 48, 50, 52, 54]\n",
      "List of odd numbers up to the random number: [1, 3, 5, 7, 9, 11, 13, 15, 17, 19, 21, 23, 25, 27, 29, 31, 33, 35, 37, 39, 41, 43, 45, 47, 49, 51, 53]\n",
      "List of prime numbers up to the random number: [2, 3, 5, 7, 11, 13, 17, 19, 23, 29, 31, 37, 41, 43, 47, 53]\n"
     ]
    }
   ],
   "source": [
    "# Task 5\n",
    "'''\n",
    "Task 5\n",
    "Write a python code to generate a random number between 1 & 99 (use python library: random). Print the following as output:\n",
    "1.\tThe random number [say, 9]\n",
    "2.\tList of even numbers up to the random number [2, 4, 6, 8]\n",
    "3.\tList of odd numbers up to the random number [1, 3, 5, 7, 9]\n",
    "4.\tList of prime numbers up to the random number [2, 3, 5, 7]\n",
    "'''\n",
    "\n",
    "\n",
    "import random\n",
    "\n",
    "def is_prime(num):\n",
    "    if num <= 1:\n",
    "        return False\n",
    "    if num <= 3:\n",
    "        return True\n",
    "    if num % 2 == 0 or num % 3 == 0:\n",
    "        return False\n",
    "    i = 5\n",
    "    while i * i <= num:\n",
    "        if num % i == 0 or num % (i + 2) == 0:\n",
    "            return False\n",
    "        i += 6\n",
    "    return True\n",
    "\n",
    "\n",
    "random_number = random.randint(1, 99)\n",
    "\n",
    "even_numbers = [i for i in range(2, random_number + 1) if i % 2 == 0]\n",
    "odd_numbers = [i for i in range(1, random_number + 1) if i % 2 != 0]\n",
    "prime_numbers = [i for i in range(2, random_number + 1) if is_prime(i)]\n",
    "\n",
    "print(\"The random number:\", random_number)\n",
    "print(\"List of even numbers up to the random number:\", even_numbers)\n",
    "print(\"List of odd numbers up to the random number:\", odd_numbers)\n",
    "print(\"List of prime numbers up to the random number:\", prime_numbers)"
   ]
  },
  {
   "cell_type": "code",
   "execution_count": 6,
   "metadata": {
    "colab": {
     "base_uri": "https://localhost:8080/"
    },
    "id": "XMPH07srBTI1",
    "outputId": "47c061cb-023e-4609-8253-ecdc50850204"
   },
   "outputs": [
    {
     "name": "stdout",
     "output_type": "stream",
     "text": [
      "input: 4138\n",
      "4: Thousands\n",
      "1: Hundreds\n",
      "3: Tens\n",
      "8: Ones\n"
     ]
    }
   ],
   "source": [
    "# Task 6\n",
    "'''\n",
    "Task 6\n",
    "Write a python code to generate a 4-digit random number between 1000 & 9999 (use python library: random). Print each digit with its place value.\n",
    "Example \n",
    "Input: 4321\n",
    "Output: {4: Thousands, 3: Hundreds, 2: Tens, 1: Ones}\n",
    "'''\n",
    "\n",
    "import random\n",
    "\n",
    "# Generate a random 4-digit number between 1000 and 9999\n",
    "random_number = random.randint(1000, 9999)\n",
    "\n",
    "# Extract individual digits\n",
    "thousands = random_number // 1000     ##the floor division // rounds the result down to the nearest whole number 5//2 is 2; 23//5 is 4\n",
    "hundreds = (random_number // 100) % 10    ##  modulas % gives the remainder\n",
    "tens = (random_number // 10) % 10\n",
    "ones = random_number % 10\n",
    "    \n",
    "# Create a dictionary to map digits to their place values\n",
    "place_values = {\n",
    "    thousands: 'Thousands',\n",
    "    hundreds: 'Hundreds',\n",
    "    tens: 'Tens',\n",
    "    ones: 'Ones'\n",
    "}\n",
    "\n",
    "print(\"input:\",random_number)\n",
    "# Print each digit with its place value\n",
    "for digit, place in place_values.items():\n",
    "    print(f\"{digit}: {place}\")\n",
    "\n",
    "\n",
    "\n"
   ]
  },
  {
   "cell_type": "code",
   "execution_count": 7,
   "metadata": {
    "colab": {
     "base_uri": "https://localhost:8080/"
    },
    "id": "vjdpZNLicuu1",
    "outputId": "0a64184f-1446-47e8-9540-7bd09a0ca460"
   },
   "outputs": [
    {
     "name": "stdout",
     "output_type": "stream",
     "text": [
      "List of 5 random numbers: [-1, 7, 1, 9, -5]\n",
      "Sum of the random numbers: 11\n"
     ]
    }
   ],
   "source": [
    "# task 7\n",
    "'''\n",
    "Task 7\n",
    "Write a python code to generate 5 random numbers between -9 & +9 (use python library: random). Print the list of 5 random numbers and their sum.\n",
    "'''\n",
    "\n",
    "import random\n",
    "\n",
    "random_numbers = [random.randint(-9, 9) for i in range(5)]\n",
    "\n",
    "sum_of_numbers = sum(random_numbers)\n",
    "\n",
    "print(\"List of 5 random numbers:\", random_numbers)\n",
    "print(\"Sum of the random numbers:\", sum_of_numbers)"
   ]
  },
  {
   "cell_type": "code",
   "execution_count": 8,
   "metadata": {
    "colab": {
     "base_uri": "https://localhost:8080/"
    },
    "id": "tCmetr39C0eu",
    "outputId": "08a94ed4-51f2-46f4-fad2-9bec0d6f751c"
   },
   "outputs": [
    {
     "name": "stdout",
     "output_type": "stream",
     "text": [
      "Enter the given date (dd-mm-yyyy or Month dd, yyyy): 23-11-1999\n",
      "Years: 23, Months: 09, Days: 08\n"
     ]
    }
   ],
   "source": [
    "# task 8\n",
    "'''\n",
    "Task 8\n",
    "Write a python code to calculate the number of Years, Months & Days, with respect to Today, given a Date.\n",
    "Example\n",
    "Input: 15-08-1947 or August 15, 1947\n",
    "Output: {Years: 77, Months: 01, Days: 01} (As on Aug 16, 2023)\n",
    "'''\n",
    "\n",
    "\n",
    "from datetime import datetime, timedelta\n",
    "\n",
    "# Given date in the format 'dd-mm-yyyy' or 'Month dd, yyyy'\n",
    "given_date_str = input(\"Enter the given date (dd-mm-yyyy or Month dd, yyyy): \")\n",
    "\n",
    "# Convert the given date string to a datetime object\n",
    "try:\n",
    "    given_date = datetime.strptime(given_date_str, '%d-%m-%Y')\n",
    "except ValueError:\n",
    "    try:\n",
    "        given_date = datetime.strptime(given_date_str, '%B %d, %Y')\n",
    "    except ValueError:\n",
    "        print(\"Invalid date format. Please use 'dd-mm-yyyy' or 'Month dd, yyyy'.\")\n",
    "        exit()\n",
    "\n",
    "# Calculate today's date\n",
    "today_date = datetime.now()\n",
    "\n",
    "# Calculate the difference between the two dates\n",
    "date_difference = today_date - given_date\n",
    "\n",
    "# Calculate years, months, and days\n",
    "years = date_difference.days // 365\n",
    "months = (date_difference.days % 365) // 30\n",
    "days = date_difference.days % 30\n",
    "\n",
    "# Print the result\n",
    "print(f\"Years: {years}, Months: {months:02}, Days: {days:02}\")\n"
   ]
  },
  {
   "cell_type": "code",
   "execution_count": 2,
   "metadata": {
    "colab": {
     "base_uri": "https://localhost:8080/"
    },
    "id": "dGHyw2RKc4L9",
    "outputId": "72537434-0644-47ed-f074-77e215750bb2"
   },
   "outputs": [],
   "source": [
    "# Task 9\n",
    "'''\n",
    "Task 9\n",
    "Write a python code to generate the following ‘diamond’ pattern.\n",
    "\n",
    "    *\n",
    "   **\n",
    "  ***\n",
    " ****\n",
    "*****\n",
    " ****\n",
    "  ***\n",
    "   **\n",
    "    *\n",
    "'''\n",
    "\n",
    "\n",
    "def print_diamond_pattern(n):\n",
    "    for i in range(n):\n",
    "        print(\" \" * (n - i - 1) + \"*\" * (2 * i + 1))\n",
    "\n",
    "    #for i in range(n - 1, -1, -1):\n",
    "    #    print(\" \" * (n - i - 1) + \"*\" * (2 * i + 1))\n",
    "\n",
    "# Adjust the value of 'size' for the size of the diamond pattern\n",
    "size = 4\n",
    "print_diamond_pattern(size)\n"
   ]
  },
  {
   "cell_type": "code",
   "execution_count": 8,
   "metadata": {
    "colab": {
     "base_uri": "https://localhost:8080/"
    },
    "id": "rAhM9A3YDiJc",
    "outputId": "e739cc18-0bde-4055-d34f-dd5907ec6d26"
   },
   "outputs": [],
   "source": [
    "# task 9\n",
    "\n",
    "#n = 5  # Number of rows in the upper half of the diamond\n",
    "\n",
    "def gotonextLine(k, i, z):\n",
    "  # base case\n",
    "    if (k == i):\n",
    "      return\n",
    "    print(\"* \", end=\"\"),\n",
    "    gotonextLine(k + z, i, z)\n",
    "  \n",
    "# print blank space of diamond\n",
    "def addblankSpaceInDiamond(j,i,z):\n",
    "    if (j == i):\n",
    "      return\n",
    "    print(\" \",end=\"\"),\n",
    "    addblankSpaceInDiamond(j + z, i, z)\n",
    "  \n",
    "def upperDiamond(row,i):\n",
    "  # base case\n",
    "    if (i > row):\n",
    "      return\n",
    "    addblankSpaceInDiamond(row, i, -1)\n",
    "    gotonextLine(0, i, 1)\n",
    "    print(\"\\n\",end=\"\"),\n",
    "    upperDiamond(row, i + 1) # recursive call\n",
    "  \n",
    "  \n",
    "def lowerDiamond(row,i):\n",
    "  # print the next line of diamond\n",
    "    if (i > row): # base case\n",
    "      return\n",
    "    addblankSpaceInDiamond(0, i, 1)\n",
    "    gotonextLine(row, i, -1)\n",
    "    print(\"\\n\",end=\"\"),\n",
    "    lowerDiamond(row, i + 1)"
   ]
  },
  {
   "cell_type": "code",
   "execution_count": 6,
   "metadata": {
    "colab": {
     "base_uri": "https://localhost:8080/",
     "height": 442
    },
    "id": "piFNX7DAJhOC",
    "outputId": "34a70f40-7f04-4d4c-e08a-394e0eb36e7a"
   },
   "outputs": [
    {
     "ename": "RecursionError",
     "evalue": "maximum recursion depth exceeded",
     "output_type": "error",
     "traceback": [
      "\u001b[1;31m---------------------------------------------------------------------------\u001b[0m",
      "\u001b[1;31mRecursionError\u001b[0m                            Traceback (most recent call last)",
      "Cell \u001b[1;32mIn[6], line 40\u001b[0m\n\u001b[0;32m     38\u001b[0m \u001b[38;5;66;03m# Test with an example element\u001b[39;00m\n\u001b[0;32m     39\u001b[0m example_element \u001b[38;5;241m=\u001b[39m list_a[\u001b[38;5;241m0\u001b[39m]\n\u001b[1;32m---> 40\u001b[0m connected_paths \u001b[38;5;241m=\u001b[39m find_connected_paths(example_element)\n\u001b[0;32m     42\u001b[0m \u001b[38;5;66;03m# Display connected paths\u001b[39;00m\n\u001b[0;32m     43\u001b[0m \u001b[38;5;28mprint\u001b[39m(\u001b[38;5;124mf\u001b[39m\u001b[38;5;124m\"\u001b[39m\u001b[38;5;124mConnected paths for element \u001b[39m\u001b[38;5;124m'\u001b[39m\u001b[38;5;132;01m{\u001b[39;00mexample_element\u001b[38;5;132;01m}\u001b[39;00m\u001b[38;5;124m'\u001b[39m\u001b[38;5;124m:\u001b[39m\u001b[38;5;124m\"\u001b[39m)\n",
      "Cell \u001b[1;32mIn[6], line 33\u001b[0m, in \u001b[0;36mfind_connected_paths\u001b[1;34m(element, path)\u001b[0m\n\u001b[0;32m     31\u001b[0m     \u001b[38;5;28;01mfor\u001b[39;00m destination \u001b[38;5;129;01min\u001b[39;00m connections[element]:\n\u001b[0;32m     32\u001b[0m         new_path \u001b[38;5;241m=\u001b[39m path \u001b[38;5;241m+\u001b[39m [element]\n\u001b[1;32m---> 33\u001b[0m         paths\u001b[38;5;241m.\u001b[39mextend(find_connected_paths(destination, new_path))\n\u001b[0;32m     34\u001b[0m     \u001b[38;5;28;01mreturn\u001b[39;00m paths\n\u001b[0;32m     35\u001b[0m \u001b[38;5;28;01melse\u001b[39;00m:\n",
      "Cell \u001b[1;32mIn[6], line 33\u001b[0m, in \u001b[0;36mfind_connected_paths\u001b[1;34m(element, path)\u001b[0m\n\u001b[0;32m     31\u001b[0m     \u001b[38;5;28;01mfor\u001b[39;00m destination \u001b[38;5;129;01min\u001b[39;00m connections[element]:\n\u001b[0;32m     32\u001b[0m         new_path \u001b[38;5;241m=\u001b[39m path \u001b[38;5;241m+\u001b[39m [element]\n\u001b[1;32m---> 33\u001b[0m         paths\u001b[38;5;241m.\u001b[39mextend(find_connected_paths(destination, new_path))\n\u001b[0;32m     34\u001b[0m     \u001b[38;5;28;01mreturn\u001b[39;00m paths\n\u001b[0;32m     35\u001b[0m \u001b[38;5;28;01melse\u001b[39;00m:\n",
      "    \u001b[1;31m[... skipping similar frames: find_connected_paths at line 33 (2971 times)]\u001b[0m\n",
      "Cell \u001b[1;32mIn[6], line 33\u001b[0m, in \u001b[0;36mfind_connected_paths\u001b[1;34m(element, path)\u001b[0m\n\u001b[0;32m     31\u001b[0m     \u001b[38;5;28;01mfor\u001b[39;00m destination \u001b[38;5;129;01min\u001b[39;00m connections[element]:\n\u001b[0;32m     32\u001b[0m         new_path \u001b[38;5;241m=\u001b[39m path \u001b[38;5;241m+\u001b[39m [element]\n\u001b[1;32m---> 33\u001b[0m         paths\u001b[38;5;241m.\u001b[39mextend(find_connected_paths(destination, new_path))\n\u001b[0;32m     34\u001b[0m     \u001b[38;5;28;01mreturn\u001b[39;00m paths\n\u001b[0;32m     35\u001b[0m \u001b[38;5;28;01melse\u001b[39;00m:\n",
      "\u001b[1;31mRecursionError\u001b[0m: maximum recursion depth exceeded"
     ]
    }
   ],
   "source": [
    "# task 10\n",
    "'''\n",
    "Task 10\n",
    "Write a python code to create a list of 10 random letters (say List A). Create a copy of List A (say List B). Shuffle both List A & B. Treat each element of List A (say a) as Source and the corresponding element of List B (say b) as Destination. It is assumed that a from list A is connected to b from List B. Map the network of all connected elements such that an inquiry of any element will show the connected paths to & from the element.\n",
    "'''\n",
    "\n",
    "\n",
    "import random\n",
    "\n",
    "# Create List A with 10 random letters\n",
    "list_a = random.choices('abcdefghijklmnopqrstuvwxyz', k=10)\n",
    "\n",
    "# Create a copy of List A\n",
    "list_b = list_a.copy()\n",
    "\n",
    "# Shuffle both List A and List B\n",
    "random.shuffle(list_a)\n",
    "random.shuffle(list_b)\n",
    "\n",
    "# Create a dictionary to map connections\n",
    "connections = {}\n",
    "for source, destination in zip(list_a, list_b):\n",
    "    if source not in connections:\n",
    "        connections[source] = []\n",
    "    connections[source].append(destination)\n",
    "\n",
    "# Function to find connected paths\n",
    "def find_connected_paths(element, path=[]):\n",
    "    if element in connections:\n",
    "        paths = []\n",
    "        for destination in connections[element]:\n",
    "            new_path = path + [element]\n",
    "            paths.extend(find_connected_paths(destination, new_path))\n",
    "        return paths\n",
    "    else:\n",
    "        return [path + [element]]\n",
    "\n",
    "# Test with an example element\n",
    "example_element = list_a[0]\n",
    "connected_paths = find_connected_paths(example_element)\n",
    "\n",
    "# Display connected paths\n",
    "print(f\"Connected paths for element '{example_element}':\")\n",
    "for path in connected_paths:\n",
    "    print(' -> '.join(path))\n"
   ]
  },
  {
   "cell_type": "code",
   "execution_count": null,
   "metadata": {},
   "outputs": [],
   "source": []
  }
 ],
 "metadata": {
  "colab": {
   "provenance": []
  },
  "kernelspec": {
   "display_name": "Python 3 (ipykernel)",
   "language": "python",
   "name": "python3"
  },
  "language_info": {
   "codemirror_mode": {
    "name": "ipython",
    "version": 3
   },
   "file_extension": ".py",
   "mimetype": "text/x-python",
   "name": "python",
   "nbconvert_exporter": "python",
   "pygments_lexer": "ipython3",
   "version": "3.11.3"
  }
 },
 "nbformat": 4,
 "nbformat_minor": 1
}
